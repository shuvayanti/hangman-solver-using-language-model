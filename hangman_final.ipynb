{
 "cells": [
  {
   "cell_type": "code",
   "execution_count": 1,
   "metadata": {
    "collapsed": true
   },
   "outputs": [],
   "source": [
    "from __future__ import print_function \n",
    "\n",
    "def hangman(secret_word, guesser, max_mistakes=11):\n",
    "    secret_word = secret_word.lower()\n",
    "    mask = ['_'] * len(secret_word)\n",
    "    guessed = list()\n",
    "    \n",
    "    mistakes = 0\n",
    "    while mistakes < max_mistakes:\n",
    "        guess = str(guesser(mask, guessed))\n",
    "        if guess in guessed:\n",
    "            mistakes += 1\n",
    "        else:\n",
    "            try:\n",
    "                guessed.append(guess)\n",
    "            except:\n",
    "                print(guessed,guess)\n",
    "            if guess in secret_word:\n",
    "                for i, c in enumerate(secret_word):\n",
    "                    if c == guess:\n",
    "                        mask[i] = c\n",
    "            else:\n",
    "                mistakes += 1\n",
    "                \n",
    "        if '_' not in mask:\n",
    "            return mistakes,guessed        \n",
    "    \n",
    "    return mistakes,guessed"
   ]
  },
  {
   "cell_type": "markdown",
   "metadata": {},
   "source": [
    "# loading data:"
   ]
  },
  {
   "cell_type": "code",
   "execution_count": 20,
   "metadata": {},
   "outputs": [
    {
     "data": {
      "text/plain": [
       "(173528, 1000)"
      ]
     },
     "execution_count": 20,
     "metadata": {},
     "output_type": "execute_result"
    }
   ],
   "source": [
    "ftrain = open('train google.txt',encoding=\"utf8\").read().splitlines()\n",
    "ftest = open('test.txt',encoding=\"utf8\").read().splitlines()\n",
    "\n",
    "test = set()\n",
    "train=set()\n",
    "for i,item in enumerate(ftest):\n",
    "    test.add(item)\n",
    "    if len(test)==1000:\n",
    "        break\n",
    "for i,item in enumerate(ftrain):\n",
    "    train.add(item)\n",
    "\n",
    "len(train), len(test)"
   ]
  },
  {
   "cell_type": "markdown",
   "metadata": {},
   "source": [
    "# unigram with position bidirectionality:"
   ]
  },
  {
   "cell_type": "code",
   "execution_count": 3,
   "metadata": {
    "collapsed": true
   },
   "outputs": [],
   "source": [
    "from collections import defaultdict\n",
    "frequni = defaultdict(dict)\n",
    "posCountDict = dict()\n",
    "frequniRev = defaultdict(dict)\n",
    "posCountDictRev = dict()\n",
    "\n",
    "\n",
    "for item in train:\n",
    "    for pos,chara in enumerate(item):\n",
    "        revIndex = len(item)-1-pos\n",
    "\n",
    "        try:\n",
    "            frequni[pos][chara] += 1\n",
    "        except KeyError:\n",
    "            frequni[pos][chara] = 1\n",
    "            \n",
    "        try:\n",
    "            frequniRev[revIndex][chara] += 1\n",
    "        except KeyError:\n",
    "            frequniRev[revIndex][chara] = 1\n",
    "            \n",
    "            \n",
    "        try:\n",
    "            posCountDict[pos] += 1\n",
    "        except KeyError:\n",
    "            posCountDict[pos] = 1\n",
    "            \n",
    "        try:\n",
    "            posCountDictRev[revIndex] += 1\n",
    "        except KeyError:\n",
    "            posCountDictRev[revIndex] = 1\n",
    "\n",
    "\n",
    "freqProb = defaultdict(dict)\n",
    "freqProbRev = defaultdict(dict)\n",
    "\n",
    "for item in frequni.keys():\n",
    "    if posCountDict[item] > 50:\n",
    "        for stuff in frequni[item].keys():\n",
    "            freqProb[item][stuff] = frequni[item][stuff]*1.0/posCountDict[item]\n",
    "            \n",
    "for item in frequniRev.keys():\n",
    "    if posCountDictRev[item] > 50:\n",
    "        for stuff in frequniRev[item].keys():\n",
    "            freqProbRev[item][stuff] = frequniRev[item][stuff]*1.0/posCountDictRev[item]"
   ]
  },
  {
   "cell_type": "code",
   "execution_count": 4,
   "metadata": {
    "collapsed": true
   },
   "outputs": [],
   "source": [
    "import operator\n",
    "def unigPosBi(mask,guessed):\n",
    "    locDict = list()\n",
    "    for item in freqProb.keys():\n",
    "        if item <= len(mask):\n",
    "            sorted_x = sorted(freqProb[item].items(), key=operator.itemgetter(1),reverse=True)\n",
    "            for stuff in sorted_x:\n",
    "                if stuff[0] not in guessed:\n",
    "                    locDict.append((stuff[0],stuff[1],item))\n",
    "                    break\n",
    "    for item in freqProbRev.keys():\n",
    "        if item <= len(mask):\n",
    "            sorted_x = sorted(freqProbRev[item].items(), key=operator.itemgetter(1),reverse=True)\n",
    "            for stuff in sorted_x:\n",
    "                if stuff[0] not in guessed:\n",
    "                    locDict.append((stuff[0],stuff[1],-1*item))\n",
    "                    break\n",
    "    loctDict2 = dict()\n",
    "    for item in locDict:\n",
    "        try:\n",
    "            loctDict2[item[0]] += item[1]\n",
    "        except:\n",
    "            loctDict2[item[0]] = item[1]\n",
    "    \n",
    "    #sorted_x = sorted(locDict, key=lambda x: x[1],reverse=True)\n",
    "    sorted_x = sorted(loctDict2.items(), key=operator.itemgetter(1),reverse=True)\n",
    "    for stuff in sorted_x:\n",
    "        if stuff[0] not in guessed:\n",
    "            return stuff[0]    "
   ]
  },
  {
   "cell_type": "markdown",
   "metadata": {},
   "source": [
    "# bidirectonal(position) bigram:"
   ]
  },
  {
   "cell_type": "code",
   "execution_count": 5,
   "metadata": {
    "collapsed": true
   },
   "outputs": [],
   "source": [
    "from collections import defaultdict\n",
    "bigram = defaultdict(dict)\n",
    "bbigram = defaultdict(dict)\n",
    "for item in train:\n",
    "    item2 = '$'+item+'$'\n",
    "    \n",
    "    for i,chara in enumerate(item2[:-1]):\n",
    "        c=1\n",
    "        while i+c<len(item2)-1:\n",
    "            try:\n",
    "                bigram[chara][item2[i+c]] += 1\n",
    "            except:\n",
    "                bigram[chara][item2[i+c]] = 1\n",
    "            c+=1\n",
    "    for i,chara in enumerate(item2[:-1]):\n",
    "        c=1\n",
    "        while i-c>1:\n",
    "            try:\n",
    "                bbigram[chara][item2[i-c]] += 1\n",
    "            except:\n",
    "                bbigram[chara][item2[i-c]] = 1\n",
    "            c+=1"
   ]
  },
  {
   "cell_type": "code",
   "execution_count": 6,
   "metadata": {
    "collapsed": true
   },
   "outputs": [],
   "source": [
    "outerKeys = dict()\n",
    "innerKeys=dict()\n",
    "for item in bigram.keys():\n",
    "    for stuff in bigram[item]:\n",
    "        try:\n",
    "            outerKeys[item] += bigram[item][stuff]\n",
    "        except:\n",
    "            outerKeys[item] = bigram[item][stuff]\n",
    "for item in bbigram.keys():\n",
    "    for stuff in bbigram[item]:\n",
    "        try:\n",
    "            innerKeys[item] += bbigram[item][stuff]\n",
    "        except:\n",
    "            innerKeys[item] = bbigram[item][stuff]\n",
    "            \n",
    "for item in bigram.keys():\n",
    "    try:\n",
    "        del bigram[item]['$']\n",
    "    except:\n",
    "        pass\n",
    "    \n",
    "    for stuff in bigram[item]:\n",
    "        bigram[item][stuff] = (1.0*bigram[item][stuff])/outerKeys[item]\n",
    "        \n",
    "for item in bigram.keys():\n",
    "    for i,stuff1 in enumerate(bigram[item]):\n",
    "        for j,stuff2 in enumerate(bigram[item]):\n",
    "            if i!=j and stuff1==stuff2:\n",
    "                bigram[item][stuff1]+=bigram[item][stuff2]\n",
    "                \n",
    "for item in bbigram.keys():\n",
    "    try:\n",
    "        del bbigram[item]['$']\n",
    "    except:\n",
    "        pass\n",
    "    \n",
    "    for stuff in bbigram[item]:\n",
    "        bbigram[item][stuff] = (1.0*bbigram[item][stuff])/innerKeys[item]\n",
    "        \n",
    "for item in bbigram.keys():\n",
    "    for i,stuff1 in enumerate(bbigram[item]):\n",
    "        for j,stuff2 in enumerate(bbigram[item]):\n",
    "                if i!=j and stuff1==stuff2:\n",
    "                    bbigram[item][stuff1]+=bbigram[item][stuff2]\n",
    "                \n",
    "for item in bbigram.keys():\n",
    "    for stuff in bbigram[item]:\n",
    "        try:\n",
    "            bigram[item][stuff]+=bbigram[item][stuff]\n",
    "        except:\n",
    "            bigram[item][stuff]=bbigram[item][stuff]\n",
    "\n",
    "def bigramM(mask,guessed):\n",
    "    currMax = 0.0\n",
    "    \n",
    "    currBi = '_'\n",
    "    if len(mask) == mask.count('_'):\n",
    "        return unigPosBi(mask,guessed).split('_')[0]\n",
    "    else:\n",
    "        for i,item in enumerate(mask):\n",
    "            try:\n",
    "                if item != '_' and mask[i+1] == '_':\n",
    "                    sorted_x = sorted(bigram[item].items(), key=operator.itemgetter(1),reverse=True)\n",
    "                    for thing in sorted_x:\n",
    "                        if thing[0] not in guessed: #thing(1)>currmax\n",
    "                            currMax = thing[1]\n",
    "                            currBi = thing[0]\n",
    "                            break\n",
    "            except IndexError:\n",
    "                pass\n",
    "\n",
    "        return currBi"
   ]
  },
  {
   "cell_type": "code",
   "execution_count": 21,
   "metadata": {},
   "outputs": [
    {
     "name": "stdout",
     "output_type": "stream",
     "text": [
      "459\n"
     ]
    }
   ],
   "source": [
    "corrs = 0\n",
    "d1=dict()\n",
    "for i,item in enumerate(test):\n",
    "    mist,d1[item] = hangman(item, bigramM, 11)\n",
    "    if mist < 11:\n",
    "        corrs += 1\n",
    "    #d1[item]=guessedLetters\n",
    "#print (d1)\n",
    "print (corrs)"
   ]
  },
  {
   "cell_type": "markdown",
   "metadata": {},
   "source": [
    "Accuracy is 45.9%."
   ]
  },
  {
   "cell_type": "markdown",
   "metadata": {
    "collapsed": true
   },
   "source": [
    "# bidirectional(position) n-gram:"
   ]
  },
  {
   "cell_type": "code",
   "execution_count": 8,
   "metadata": {
    "collapsed": true
   },
   "outputs": [],
   "source": [
    "from collections import defaultdict\n",
    "\n",
    "def ngramModel(train,ngt,countsOnly=1):\n",
    "    ng = ngt - 1\n",
    "    bigram = defaultdict(dict)\n",
    "    bbigram = defaultdict(dict)\n",
    "    outerKeys =dict()\n",
    "    \n",
    "    for item in train:\n",
    "        item2 = '$'+item+'$'\n",
    "        for i,chara in enumerate(item2):\n",
    "            c=0\n",
    "            if i+ng >= len(item2)-1:\n",
    "                break\n",
    "            while i+ng+c<len(item2)-1 and c<2:\n",
    "                try:\n",
    "                    bigram[item2[i:i+ng]][item2[i+ng+c]] += 1                \n",
    "                except:\n",
    "                    try: \n",
    "                        bigram[item2[i:i+ng]][item2[i+ng+c]] = 1                    \n",
    "                    except IndexError:\n",
    "                        pass\n",
    "                c+=1\n",
    "            \n",
    "    for item in bigram.keys():\n",
    "        for stuff in bigram[item]:\n",
    "            try:\n",
    "                outerKeys[item] += bigram[item][stuff]\n",
    "            except:\n",
    "                outerKeys[item] = bigram[item][stuff]\n",
    "    \n",
    "    if countsOnly != 1:\n",
    "        for item in bigram.keys():\n",
    "            try:\n",
    "                del bigram[item]['$']\n",
    "            except:\n",
    "                pass\n",
    "            for stuff in bigram[item]:\n",
    "                bigram[item][stuff] = (1.0*bigram[item][stuff])/outerKeys[item]\n",
    "        for item in bigram.keys():\n",
    "            for i,stuff1 in enumerate(bigram[item]):\n",
    "                for j,stuff2 in enumerate(bigram[item]):\n",
    "                    if i!=j and stuff1==stuff2:\n",
    "                        bigram[item][stuff1]+=bigram[item][stuff2]\n",
    "        \n",
    "    return bigram,outerKeys"
   ]
  },
  {
   "cell_type": "code",
   "execution_count": 9,
   "metadata": {
    "collapsed": true
   },
   "outputs": [],
   "source": [
    "ngModels = dict()\n",
    "outKeys = dict()\n",
    "\n",
    "for i in range(2,6):\n",
    "    ngModels[i],outKeys[i] = ngramModel(train,i)"
   ]
  },
  {
   "cell_type": "markdown",
   "metadata": {},
   "source": [
    "# Determining the parameters based on probability of n-gram :"
   ]
  },
  {
   "cell_type": "code",
   "execution_count": 16,
   "metadata": {
    "collapsed": true
   },
   "outputs": [],
   "source": [
    "def ngraInterpWeights(mask,guessed,paramList=[ 0.25,0.25,0.25,0.25]):\n",
    "    proList = list()\n",
    "    scores = defaultdict(dict)\n",
    "    maski = '$' +  ''.join(mask) + '$'\n",
    "    if len(mask) == mask.count('_'):\n",
    "        return unigPosBi(mask,guessed),'nil'\n",
    "    maskSort = sorted([item[-4:] for item in maski.split('_') if len(item)>=1 and '$'!=item[-1]],key=lambda x: len(x),reverse=True)\n",
    "    \n",
    "    for item in maskSort:\n",
    "        candidates = dict() \n",
    "        \n",
    "        for i in range(-1*(len(item)-1),1):\n",
    "            \n",
    "            proAdded = 0\n",
    "            try:\n",
    "                pro = sorted(ngModels[len(item[-i:])+1][item[-i:]].items(),key=operator.itemgetter(1),reverse=True)\n",
    "                for pros in pro:\n",
    "                    if pros[0] not in guessed:\n",
    "                        try:\n",
    "                            candidates[pros[0]] += paramList[-i]* pros[1]*1.0/outKeys[len(item[-i:])+1][item[-i:]]\n",
    "                        except:\n",
    "                            candidates[pros[0]] = paramList[-i]* pros[1]*1.0/outKeys[len(item[-i:])+1][item[-i:]]\n",
    "                        scores[item+'_'+pros[0]][len(item[-i:])+1] =  paramList[-i]* pros[1]*1.0/outKeys[len(item[-i:])+1][item[-i:]]\n",
    "\n",
    "            except (IndexError,KeyError) as e:\n",
    "                pass\n",
    "        finMark = list(sorted(candidates.items(), key=operator.itemgetter(1),reverse=True)[0])\n",
    "        finMark.append(item)\n",
    "        proList.append(tuple(finMark))                \n",
    "    \n",
    "    if len(proList) == 0:\n",
    "        return unigPosBi(mask,guessed),'nil'\n",
    "    \n",
    "    finVal = sorted(proList, key=lambda x: x[0],reverse=True)[0][0]\n",
    "    newScores = defaultdict(dict)\n",
    "    for item in scores.keys():\n",
    "        if item.split('_')[1]== finVal:\n",
    "            newScores[item] = scores[item]\n",
    "    return finVal,newScores\n",
    "\n",
    "\n",
    "def hangman3(secret_word, guesser, max_mistakes=8, verbose=False,param=20):\n",
    "    tuples = open('filePar.csv','a')\n",
    "    secret_word = secret_word.lower()\n",
    "    mask = ['_'] * len(secret_word)\n",
    "    guessed = set()\n",
    "    if verbose:\n",
    "        print(\"Starting hangman game. Target is\", ' '.join(mask), 'length', len(secret_word))\n",
    "    \n",
    "    mistakes = 0\n",
    "    while mistakes < max_mistakes:\n",
    "        if verbose:\n",
    "            print(\"You have\", (max_mistakes-mistakes), \"attempts remaining.\")\n",
    "        guess,scores = guesser(mask, guessed,param)\n",
    "        finScores = defaultdict(dict)\n",
    "        for i in range(1,6):\n",
    "            finScores[guess][i] = 0.0\n",
    "        if scores != 'nil': \n",
    "            for item in scores.keys():\n",
    "                for stuff in scores[item].keys():\n",
    "                    try:\n",
    "                        finScores[guess][stuff] += scores[item][stuff]\n",
    "                    except KeyError:\n",
    "                        print(item,stuff)\n",
    "\n",
    "                \n",
    "        if verbose:\n",
    "            print('Guess is', guess)\n",
    "        if guess in guessed:\n",
    "            if verbose:\n",
    "                print('Already guessed this before.')\n",
    "            mistakes += 1\n",
    "        else:\n",
    "            guessed.add(guess)\n",
    "            if guess in secret_word:\n",
    "                for i, c in enumerate(secret_word):\n",
    "                    if c == guess:\n",
    "                        mask[i] = c\n",
    "                if verbose:\n",
    "                    print('Good guess:', ' '.join(mask))\n",
    "                finScores[guess]['correct'] = 1\n",
    "            else:\n",
    "                if verbose:\n",
    "                    print('Sorry, try again.')\n",
    "                mistakes += 1\n",
    "                finScores[guess]['correct'] = 0\n",
    "        if scores != 'nil':\n",
    "            print(guess,finScores[guess][2],finScores[guess][3],finScores[guess][4],finScores[guess][5],finScores[guess]['correct'],file=tuples,sep=',')\n",
    "        if '_' not in mask:\n",
    "            if verbose:\n",
    "                print('Congratulations, you won.')\n",
    "            return mistakes\n",
    "        \n",
    "    if verbose:\n",
    "        print('Out of guesses. The word was', secret_word)    \n",
    "    tuples.close()\n",
    "    return mistakes"
   ]
  },
  {
   "cell_type": "markdown",
   "metadata": {},
   "source": [
    "# logistic regression:"
   ]
  },
  {
   "cell_type": "code",
   "execution_count": 11,
   "metadata": {},
   "outputs": [
    {
     "data": {
      "text/html": [
       "<div>\n",
       "<style>\n",
       "    .dataframe thead tr:only-child th {\n",
       "        text-align: right;\n",
       "    }\n",
       "\n",
       "    .dataframe thead th {\n",
       "        text-align: left;\n",
       "    }\n",
       "\n",
       "    .dataframe tbody tr th {\n",
       "        vertical-align: top;\n",
       "    }\n",
       "</style>\n",
       "<table border=\"1\" class=\"dataframe\">\n",
       "  <thead>\n",
       "    <tr style=\"text-align: right;\">\n",
       "      <th></th>\n",
       "      <th>char</th>\n",
       "      <th>bi</th>\n",
       "      <th>tri</th>\n",
       "      <th>quad</th>\n",
       "      <th>five</th>\n",
       "    </tr>\n",
       "    <tr>\n",
       "      <th>label</th>\n",
       "      <th></th>\n",
       "      <th></th>\n",
       "      <th></th>\n",
       "      <th></th>\n",
       "      <th></th>\n",
       "    </tr>\n",
       "  </thead>\n",
       "  <tbody>\n",
       "    <tr>\n",
       "      <th>0</th>\n",
       "      <td>185337</td>\n",
       "      <td>185337</td>\n",
       "      <td>185337</td>\n",
       "      <td>185337</td>\n",
       "      <td>185337</td>\n",
       "    </tr>\n",
       "    <tr>\n",
       "      <th>1</th>\n",
       "      <td>181193</td>\n",
       "      <td>181193</td>\n",
       "      <td>181193</td>\n",
       "      <td>181193</td>\n",
       "      <td>181193</td>\n",
       "    </tr>\n",
       "  </tbody>\n",
       "</table>\n",
       "</div>"
      ],
      "text/plain": [
       "         char      bi     tri    quad    five\n",
       "label                                        \n",
       "0      185337  185337  185337  185337  185337\n",
       "1      181193  181193  181193  181193  181193"
      ]
     },
     "execution_count": 11,
     "metadata": {},
     "output_type": "execute_result"
    }
   ],
   "source": [
    "import pandas\n",
    "params = pandas.read_csv('filePar.csv',names=['char','bi','tri','quad','five','label'])\n",
    "params.groupby('label').count()"
   ]
  },
  {
   "cell_type": "code",
   "execution_count": 12,
   "metadata": {},
   "outputs": [
    {
     "name": "stdout",
     "output_type": "stream",
     "text": [
      "[[ 9.03816849  7.08968435  6.59863748  5.82646768]] {'C': 1.0, 'class_weight': None, 'dual': False, 'fit_intercept': True, 'intercept_scaling': 1, 'max_iter': 50000, 'multi_class': 'ovr', 'n_jobs': 1, 'penalty': 'l2', 'random_state': None, 'solver': 'liblinear', 'tol': 0.0001, 'verbose': 0, 'warm_start': False}\n"
     ]
    }
   ],
   "source": [
    "from sklearn import linear_model\n",
    "log_model = linear_model.LogisticRegression(max_iter=50000)\n",
    "train_features = params[['bi','tri','quad','five']]\n",
    "test_features = params['label']\n",
    "log_model.fit(X = train_features ,\n",
    "              y = test_features)\n",
    "\n",
    "print(log_model.coef_,log_model.get_params())"
   ]
  },
  {
   "cell_type": "code",
   "execution_count": 13,
   "metadata": {},
   "outputs": [],
   "source": [
    "a = log_model.coef_[0]\n",
    "b = [item/sum(a) for item in a]\n",
    "#b,b[::-1]"
   ]
  },
  {
   "cell_type": "code",
   "execution_count": 22,
   "metadata": {},
   "outputs": [
    {
     "name": "stdout",
     "output_type": "stream",
     "text": [
      "757\n"
     ]
    }
   ],
   "source": [
    "corrs = 0\n",
    "d2=dict()\n",
    "totMist=0\n",
    "for i,item in enumerate(test):\n",
    "    mist = hangman3(item, ngraInterpWeights, 11,False,b)\n",
    "    totMist += mist\n",
    "    if mist < 11:\n",
    "        corrs += 1\n",
    "    #print(d2)\n",
    "print (corrs)"
   ]
  },
  {
   "cell_type": "markdown",
   "metadata": {},
   "source": [
    "Accuracy is 75.7%."
   ]
  }
 ],
 "metadata": {
  "kernelspec": {
   "display_name": "Python 3",
   "language": "python",
   "name": "python3"
  },
  "language_info": {
   "codemirror_mode": {
    "name": "ipython",
    "version": 3
   },
   "file_extension": ".py",
   "mimetype": "text/x-python",
   "name": "python",
   "nbconvert_exporter": "python",
   "pygments_lexer": "ipython3",
   "version": "3.6.1"
  }
 },
 "nbformat": 4,
 "nbformat_minor": 2
}
